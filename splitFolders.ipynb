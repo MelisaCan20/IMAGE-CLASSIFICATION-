from google.colab import drive
drive.mount('/content/drive')

import splitfolders 
input_folder = "/content/drive/MyDrive//Dataset"
output = "/content/drive/MyDrive//DatasetOutput2" 
splitfolders.ratio(input_folder, output=output, seed=42, ratio=(.7, .2, .1))
